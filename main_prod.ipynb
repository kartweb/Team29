{
 "cells": [
  {
   "cell_type": "code",
   "execution_count": null,
   "id": "84ee09a3-1220-4b12-9f2f-7bb90625f05c",
   "metadata": {},
   "outputs": [],
   "source": [
    "import pandas as pd\n",
    "import matplotlib.pyplot as plt\n",
    "import numpy as np\n",
    "from scipy.stats import zscore\n",
    "from sklearn.preprocessing import StandardScaler\n",
    "from statsmodels.graphics.tsaplots import plot_acf, plot_pacf\n",
    "from statsmodels.tsa.arima.model import ARIMA\n",
    "from sklearn.metrics import mean_squared_error, mean_absolute_error\n",
    "from statsmodels.tsa.seasonal import seasonal_decompose\n",
    "import seaborn as sns  "
   ]
  },
  {
   "cell_type": "code",
   "execution_count": null,
   "id": "1c9f8109-fb4e-46e1-8964-de1d9b6d8eab",
   "metadata": {},
   "outputs": [],
   "source": [
    "path = r\"Nox/data/current.csv\"\n",
    "df = pd.read_csv(path, sep=';')"
   ]
  },
  {
   "cell_type": "code",
   "execution_count": null,
   "id": "e6126cff-6dc4-4500-8903-37aa5cb66dd0",
   "metadata": {},
   "outputs": [],
   "source": [
    "df.columns"
   ]
  },
  {
   "cell_type": "code",
   "execution_count": null,
   "id": "fd7a4ecc-bc3e-49da-b1aa-0d1057d8db4f",
   "metadata": {},
   "outputs": [],
   "source": [
    "# Select only numeric columns\n",
    "num_df = df.select_dtypes(include='number')\n",
    "\n",
    "# Compute correlation matrix\n",
    "corr = num_df.corr()\n",
    "\n",
    "# Plot heatmap\n",
    "plt.figure(figsize=(8,6))\n",
    "sns.heatmap(corr, annot=True, fmt=\".2f\", cmap=\"coolwarm\", square=True)\n",
    "plt.title(\"Correlation Heatmap of Numeric Columns\", fontsize=14)\n",
    "plt.tight_layout()\n",
    "plt.show()"
   ]
  },
  {
   "cell_type": "code",
   "execution_count": null,
   "id": "9899bd08-c740-4337-803a-3b51a71307c3",
   "metadata": {},
   "outputs": [],
   "source": [
    "exog_vars = ['ACE', 'System imbalance', 'Marginal incremental price', 'Marginal decremental price']"
   ]
  },
  {
   "cell_type": "markdown",
   "id": "26c93ead-181f-46fb-83ff-ae6acc86854b",
   "metadata": {},
   "source": [
    "Set correct index and convert to datetime"
   ]
  },
  {
   "cell_type": "code",
   "execution_count": null,
   "id": "a709e93b-b751-4d8e-87e6-734e5dc29980",
   "metadata": {},
   "outputs": [],
   "source": [
    "df = df.set_index('Datetime')\n",
    "df.index = pd.to_datetime(df.index)"
   ]
  },
  {
   "cell_type": "code",
   "execution_count": null,
   "id": "4238c1f3-7b88-400e-b7d2-b9a84fe10196",
   "metadata": {},
   "outputs": [],
   "source": [
    "df.plot"
   ]
  },
  {
   "cell_type": "code",
   "execution_count": null,
   "id": "14828326-08d4-41dc-8cd2-bea5c91b6529",
   "metadata": {},
   "outputs": [],
   "source": [
    "df = df[['Imbalance Price', 'ACE', 'System imbalance', 'Marginal incremental price', 'Marginal decremental price']].copy()"
   ]
  },
  {
   "cell_type": "code",
   "execution_count": null,
   "id": "6b230848-0594-4b8f-883f-10c0e3c8972f",
   "metadata": {},
   "outputs": [],
   "source": [
    "df.describe()"
   ]
  },
  {
   "cell_type": "code",
   "execution_count": null,
   "id": "472b38dc-6ead-45ec-b400-680871cb058d",
   "metadata": {},
   "outputs": [],
   "source": [
    "df.head()"
   ]
  },
  {
   "cell_type": "code",
   "execution_count": null,
   "id": "3d68b682-91bc-4556-b3cc-2cc5663ebee9",
   "metadata": {},
   "outputs": [],
   "source": [
    "df.isna().sum()"
   ]
  },
  {
   "cell_type": "markdown",
   "id": "8c5a59ea-ba6e-4d70-8af1-382deb26ba30",
   "metadata": {},
   "source": [
    "No missing values"
   ]
  },
  {
   "cell_type": "markdown",
   "id": "814375a1-ef92-4975-8f3f-082b5bb173be",
   "metadata": {},
   "source": [
    "Let's drop all columns except the price_eur_mwh (index is already set to datetime_utc)"
   ]
  },
  {
   "cell_type": "markdown",
   "id": "007cc2a8-ceef-4d12-b6f0-2f6c0b48b4c9",
   "metadata": {},
   "source": [
    "Let's fit a timeseries model.\n",
    "\n",
    "Preprocessing - There are not missing values, let's detect outliers"
   ]
  },
  {
   "cell_type": "code",
   "execution_count": null,
   "id": "dc19f070-8424-4b67-9784-8b2ae452b83f",
   "metadata": {},
   "outputs": [],
   "source": [
    "df.loc[:, 'z_scores'] = np.abs(zscore(df['Imbalance Price']))"
   ]
  },
  {
   "cell_type": "code",
   "execution_count": null,
   "id": "808480da-5578-4494-9460-763422425197",
   "metadata": {},
   "outputs": [],
   "source": [
    "df['z_scores'] "
   ]
  },
  {
   "cell_type": "markdown",
   "id": "201a8c23-3c64-4be7-b791-fd168371299f",
   "metadata": {},
   "source": [
    "Z_scores interpretation <br>\n",
    "\n",
    "0 - Exactly average <br>\n",
    "+-1 = Within 1 std (68 percent of data) <br>\n",
    "+-2 = within 2 std (95 percent of data) <br>\n",
    "+-3 = Within 3 std (99.7 percent of data) <br>"
   ]
  },
  {
   "cell_type": "code",
   "execution_count": null,
   "id": "9d15ec17-586b-48d5-ac58-dd3fbb4e5e54",
   "metadata": {},
   "outputs": [],
   "source": [
    "plt.hist(df['z_scores'] )"
   ]
  },
  {
   "cell_type": "markdown",
   "id": "07a110e8-a02b-4273-bc60-2c0b2206f620",
   "metadata": {},
   "source": [
    "Filtering for z scores under 3 and removing outliers"
   ]
  },
  {
   "cell_type": "code",
   "execution_count": null,
   "id": "fc0c6bc2-bcfd-4eef-8b7e-672b7ad6339c",
   "metadata": {},
   "outputs": [],
   "source": [
    "df = df[df['z_scores'] < 3].copy()"
   ]
  },
  {
   "cell_type": "code",
   "execution_count": null,
   "id": "d359b48c-30a8-44d2-93d8-f4470b42b071",
   "metadata": {},
   "outputs": [],
   "source": [
    "df = df.drop('z_scores', axis=1)"
   ]
  },
  {
   "cell_type": "markdown",
   "id": "85e6e2e1-b7fa-4f81-9028-d81bb09f8c85",
   "metadata": {},
   "source": [
    "Let's try some Smoothing, Differencing, Scaling and Normalization"
   ]
  },
  {
   "cell_type": "markdown",
   "id": "f787e973-3bd6-4f4c-b241-77e7e56a4e87",
   "metadata": {},
   "source": [
    "Moving average"
   ]
  },
  {
   "cell_type": "markdown",
   "id": "e9019a79-96dc-4919-b3ce-c49d53613146",
   "metadata": {},
   "source": [
    "Differencing"
   ]
  },
  {
   "cell_type": "code",
   "execution_count": null,
   "id": "d2a3b523-dcd3-4f27-bff4-1157ddf04fa6",
   "metadata": {},
   "outputs": [],
   "source": [
    "differenced_series = df.diff().dropna()"
   ]
  },
  {
   "cell_type": "markdown",
   "id": "edfec8fb-e2c3-4b35-9686-8dd4067e5a21",
   "metadata": {},
   "source": [
    "Scaling"
   ]
  },
  {
   "cell_type": "code",
   "execution_count": null,
   "id": "bf534325-aa2f-404d-bb0f-4feb3b7231a0",
   "metadata": {},
   "outputs": [],
   "source": [
    "scaler = StandardScaler()\n",
    "scaled_series = scaler.fit_transform(df.values.reshape(-1, 1))"
   ]
  },
  {
   "cell_type": "markdown",
   "id": "488beccf-f00f-4798-9cc2-49ebe1e5b975",
   "metadata": {},
   "source": [
    "Let's plot: <br>\n",
    "\n",
    "A line plot for standard viz <br>\n",
    "A seasonal plot for seasonal patterns <br>\n",
    "An autocorrelation plot to check correlation of series with past values <br>"
   ]
  },
  {
   "cell_type": "code",
   "execution_count": null,
   "id": "fe727654-4e4a-4d10-8f41-323fa32a4406",
   "metadata": {},
   "outputs": [],
   "source": [
    "plt.figure(figsize=(15, 18))"
   ]
  },
  {
   "cell_type": "code",
   "execution_count": null,
   "id": "2fd94936-52cf-4622-8d9e-ee0816a171cf",
   "metadata": {},
   "outputs": [],
   "source": [
    "df.columns"
   ]
  },
  {
   "cell_type": "markdown",
   "id": "c1129a7b-fe56-410d-9b97-b6890f98c888",
   "metadata": {},
   "source": [
    "ACF plots correlation of time series with itself at different lags. <br>\n",
    "\n",
    "A gradual decline suggests a long term dependency in data <br>\n",
    "\n",
    "Each observation is highly dependant on its recent past values <br>\n",
    "\n",
    "Non stationarity -> mean and variance likely change overtime (due to trend or seasonality) <br>\n",
    "\n",
    "Need to difference and account for seasonal/trend component"
   ]
  },
  {
   "cell_type": "markdown",
   "id": "4718766f-3b8c-4bc5-8387-5dd789b9b921",
   "metadata": {},
   "source": [
    "PACF plots correlation between observations at two time points, removing influence of intermediary observations. <br>\n",
    "\n",
    "Sharp drop after lag 1 suggests one autoregressive term could capture most of the dependency <br>\n",
    "\n",
    "Correlations insignificant after few lags supports a short memory once first lag is accounted for <br>"
   ]
  },
  {
   "cell_type": "markdown",
   "id": "b8b057b0-630d-4f56-8c90-cfa0cd0faabe",
   "metadata": {},
   "source": [
    "ARIMA(1,1,0) after differencing"
   ]
  },
  {
   "cell_type": "code",
   "execution_count": null,
   "id": "77918eae-9c1a-4201-b50c-63ff10b5ecf1",
   "metadata": {},
   "outputs": [],
   "source": [
    "df.isna().sum()"
   ]
  },
  {
   "cell_type": "code",
   "execution_count": null,
   "id": "6c051c6e-e19d-4e71-a92d-178156b4b90e",
   "metadata": {},
   "outputs": [],
   "source": [
    "p = 2\n",
    "d = 0\n",
    "q = 0\n",
    "\n",
    "model = ARIMA(df['Imbalance Price'], order=(p, d, q), exog=df[exog_vars])\n",
    "model_fit = model.fit()"
   ]
  },
  {
   "cell_type": "code",
   "execution_count": null,
   "id": "0662383f-a6ac-4aab-9c22-dc6b162f8e22",
   "metadata": {},
   "outputs": [],
   "source": [
    "pred = model_fit.predict(start=1, end=len(df)-1)"
   ]
  },
  {
   "cell_type": "code",
   "execution_count": null,
   "id": "4afe40d6-b3d9-493e-9560-5d85c601cac7",
   "metadata": {},
   "outputs": [],
   "source": [
    "y_true = df['Imbalance Price'].iloc[1:]\n",
    "rmse = np.sqrt(mean_squared_error(y_true, pred))\n",
    "mae = mean_absolute_error(y_true, pred)"
   ]
  },
  {
   "cell_type": "code",
   "execution_count": null,
   "id": "024a261c-0b78-43f2-aa04-8e259511f3a1",
   "metadata": {},
   "outputs": [],
   "source": [
    "print(f\"RMSE: {rmse:.2f}\")\n",
    "print(f\"MAE:  {mae:.2f}\")"
   ]
  },
  {
   "cell_type": "code",
   "execution_count": null,
   "id": "4ad812d2-8f4f-4aa0-ad41-259e2883aad1",
   "metadata": {},
   "outputs": [],
   "source": [
    "# Plot\n",
    "plt.figure(figsize=(10, 6))\n",
    "plt.plot(y_true.index, y_true, label='Actual', linewidth=2)\n",
    "plt.plot(y_true.index, pred, label='Predicted', linestyle='--', linewidth=2)\n",
    "\n",
    "plt.title('Actual vs Predicted Imbalance Price')\n",
    "plt.xlabel('Time')\n",
    "plt.ylabel('Imbalance Price')\n",
    "plt.legend()\n",
    "plt.grid(True, linestyle='--', alpha=0.6)\n",
    "\n",
    "plt.tight_layout()\n",
    "plt.show()"
   ]
  },
  {
   "cell_type": "code",
   "execution_count": null,
   "id": "86d09808-2e92-460b-9d1e-1b0d91a07af5",
   "metadata": {},
   "outputs": [],
   "source": []
  },
  {
   "cell_type": "code",
   "execution_count": null,
   "id": "6811d5eb-a502-44fa-850d-fea4816c410c",
   "metadata": {},
   "outputs": [],
   "source": []
  }
 ],
 "metadata": {
  "kernelspec": {
   "display_name": "Python 3 (ipykernel)",
   "language": "python",
   "name": "python3"
  },
  "language_info": {
   "codemirror_mode": {
    "name": "ipython",
    "version": 3
   },
   "file_extension": ".py",
   "mimetype": "text/x-python",
   "name": "python",
   "nbconvert_exporter": "python",
   "pygments_lexer": "ipython3",
   "version": "3.12.7"
  }
 },
 "nbformat": 4,
 "nbformat_minor": 5
}
